{
 "cells": [
  {
   "cell_type": "code",
   "execution_count": 1,
   "metadata": {},
   "outputs": [],
   "source": [
    "from openai import OpenAI\n",
    "import pandas as pd"
   ]
  },
  {
   "cell_type": "code",
   "execution_count": 2,
   "metadata": {},
   "outputs": [],
   "source": [
    "df_lowest = pd.read_csv('new\\ChatGPT_CNN.csv').drop('Unnamed: 0', axis=1) # change the file path\n",
    "df_highest= pd.read_csv('new\\LGBT_SCMP.csv').drop('Unnamed: 0', axis=1) # change the file path\n",
    "\n",
    "sentences_lowest = df_lowest['text'].to_list()\n",
    "sentences_highest = df_highest['text'].to_list()"
   ]
  },
  {
   "cell_type": "code",
   "execution_count": 3,
   "metadata": {},
   "outputs": [],
   "source": [
    "client = OpenAI(api_key='') # input your OpenAI API key"
   ]
  },
  {
   "cell_type": "code",
   "execution_count": 4,
   "metadata": {},
   "outputs": [],
   "source": [
    "for sentence in sentences_lowest:\n",
    "    completion = client.chat.completions.create(\n",
    "        model='gpt-3.5-turbo',\n",
    "        messages=[\n",
    "            {'role': 'user', 'content': sentence+' Make this sentence more neutral and objective.'}\n",
    "        ]\n",
    "    )\n",
    "\n",
    "    output_sentence = completion.choices[0].message.content\n",
    "\n",
    "    with open('lowest.txt', 'a', encoding='UTF-8') as f:\n",
    "        f.write(output_sentence+'\\n')\n",
    "    \n",
    "    print(output_sentence)"
   ]
  },
  {
   "cell_type": "code",
   "execution_count": 2,
   "metadata": {},
   "outputs": [],
   "source": [
    "for sentence in sentences_highest:\n",
    "    completion = client.chat.completions.create(\n",
    "        model='gpt-3.5-turbo',\n",
    "        messages=[\n",
    "            {'role': 'user', 'content': sentence+' Make this sentence more neutral and objective.'}\n",
    "        ]\n",
    "    )\n",
    "\n",
    "    output_sentence = completion.choices[0].message.content\n",
    "\n",
    "    with open('highest.txt', 'a', encoding='UTF-8') as f:\n",
    "        f.write(output_sentence+'\\n')\n",
    "    \n",
    "    print(output_sentence)"
   ]
  },
  {
   "cell_type": "code",
   "execution_count": null,
   "metadata": {},
   "outputs": [],
   "source": []
  }
 ],
 "metadata": {
  "kernelspec": {
   "display_name": "Python 3",
   "language": "python",
   "name": "python3"
  },
  "language_info": {
   "codemirror_mode": {
    "name": "ipython",
    "version": 3
   },
   "file_extension": ".py",
   "mimetype": "text/x-python",
   "name": "python",
   "nbconvert_exporter": "python",
   "pygments_lexer": "ipython3",
   "version": "3.10.7"
  }
 },
 "nbformat": 4,
 "nbformat_minor": 2
}
