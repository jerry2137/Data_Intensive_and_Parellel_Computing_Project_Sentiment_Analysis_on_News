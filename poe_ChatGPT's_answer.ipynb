{
 "cells": [
  {
   "cell_type": "code",
   "execution_count": 9,
   "metadata": {},
   "outputs": [],
   "source": [
    "from selenium import webdriver\n",
    "from selenium.webdriver.common.by import By\n",
    "import time\n",
    "import pandas as pd"
   ]
  },
  {
   "cell_type": "code",
   "execution_count": 22,
   "metadata": {},
   "outputs": [],
   "source": [
    "df_lowest = pd.read_csv('new\\ChatGPT_CNN.csv').drop('Unnamed: 0', axis=1)\n",
    "df_highest= pd.read_csv('new\\LGBT_SCMP.csv').drop('Unnamed: 0', axis=1)"
   ]
  },
  {
   "cell_type": "code",
   "execution_count": 23,
   "metadata": {},
   "outputs": [
    {
     "data": {
      "text/html": [
       "<div>\n",
       "<style scoped>\n",
       "    .dataframe tbody tr th:only-of-type {\n",
       "        vertical-align: middle;\n",
       "    }\n",
       "\n",
       "    .dataframe tbody tr th {\n",
       "        vertical-align: top;\n",
       "    }\n",
       "\n",
       "    .dataframe thead th {\n",
       "        text-align: right;\n",
       "    }\n",
       "</style>\n",
       "<table border=\"1\" class=\"dataframe\">\n",
       "  <thead>\n",
       "    <tr style=\"text-align: right;\">\n",
       "      <th></th>\n",
       "      <th>posivite_score</th>\n",
       "      <th>bias_score</th>\n",
       "      <th>text</th>\n",
       "    </tr>\n",
       "  </thead>\n",
       "  <tbody>\n",
       "    <tr>\n",
       "      <th>0</th>\n",
       "      <td>0.424837</td>\n",
       "      <td>0.150325</td>\n",
       "      <td>OpenAI said recent outages of its viral ChatGP...</td>\n",
       "    </tr>\n",
       "    <tr>\n",
       "      <th>1</th>\n",
       "      <td>0.089129</td>\n",
       "      <td>0.821743</td>\n",
       "      <td>A DDoS attack, or distributed denial of servic...</td>\n",
       "    </tr>\n",
       "    <tr>\n",
       "      <th>2</th>\n",
       "      <td>0.478472</td>\n",
       "      <td>0.043056</td>\n",
       "      <td>“We are continuing work to mitigate this,” Ope...</td>\n",
       "    </tr>\n",
       "    <tr>\n",
       "      <th>3</th>\n",
       "      <td>0.103931</td>\n",
       "      <td>0.792139</td>\n",
       "      <td>Users on Wednesday were unable to access all o...</td>\n",
       "    </tr>\n",
       "    <tr>\n",
       "      <th>4</th>\n",
       "      <td>0.505313</td>\n",
       "      <td>0.010625</td>\n",
       "      <td>The company told CNN no user information was c...</td>\n",
       "    </tr>\n",
       "    <tr>\n",
       "      <th>...</th>\n",
       "      <td>...</td>\n",
       "      <td>...</td>\n",
       "      <td>...</td>\n",
       "    </tr>\n",
       "    <tr>\n",
       "      <th>115</th>\n",
       "      <td>0.402172</td>\n",
       "      <td>0.195656</td>\n",
       "      <td>Moreover, this data scraping occurred at an “u...</td>\n",
       "    </tr>\n",
       "    <tr>\n",
       "      <th>116</th>\n",
       "      <td>0.505967</td>\n",
       "      <td>0.011934</td>\n",
       "      <td>OpenAI did not immediately respond to CNN’s re...</td>\n",
       "    </tr>\n",
       "    <tr>\n",
       "      <th>117</th>\n",
       "      <td>0.513719</td>\n",
       "      <td>0.027439</td>\n",
       "      <td>“By collecting previously obscure personal dat...</td>\n",
       "    </tr>\n",
       "    <tr>\n",
       "      <th>118</th>\n",
       "      <td>0.751825</td>\n",
       "      <td>0.503650</td>\n",
       "      <td>The lawsuit seeks injunctive relief in the for...</td>\n",
       "    </tr>\n",
       "    <tr>\n",
       "      <th>119</th>\n",
       "      <td>0.561161</td>\n",
       "      <td>0.122321</td>\n",
       "      <td>OpenAI publicly launched ChatGPT late last yea...</td>\n",
       "    </tr>\n",
       "  </tbody>\n",
       "</table>\n",
       "<p>120 rows × 3 columns</p>\n",
       "</div>"
      ],
      "text/plain": [
       "     posivite_score  bias_score  \\\n",
       "0          0.424837    0.150325   \n",
       "1          0.089129    0.821743   \n",
       "2          0.478472    0.043056   \n",
       "3          0.103931    0.792139   \n",
       "4          0.505313    0.010625   \n",
       "..              ...         ...   \n",
       "115        0.402172    0.195656   \n",
       "116        0.505967    0.011934   \n",
       "117        0.513719    0.027439   \n",
       "118        0.751825    0.503650   \n",
       "119        0.561161    0.122321   \n",
       "\n",
       "                                                  text  \n",
       "0    OpenAI said recent outages of its viral ChatGP...  \n",
       "1    A DDoS attack, or distributed denial of servic...  \n",
       "2    “We are continuing work to mitigate this,” Ope...  \n",
       "3    Users on Wednesday were unable to access all o...  \n",
       "4    The company told CNN no user information was c...  \n",
       "..                                                 ...  \n",
       "115  Moreover, this data scraping occurred at an “u...  \n",
       "116  OpenAI did not immediately respond to CNN’s re...  \n",
       "117  “By collecting previously obscure personal dat...  \n",
       "118  The lawsuit seeks injunctive relief in the for...  \n",
       "119  OpenAI publicly launched ChatGPT late last yea...  \n",
       "\n",
       "[120 rows x 3 columns]"
      ]
     },
     "execution_count": 23,
     "metadata": {},
     "output_type": "execute_result"
    }
   ],
   "source": [
    "df_lowest"
   ]
  },
  {
   "cell_type": "code",
   "execution_count": 33,
   "metadata": {},
   "outputs": [],
   "source": [
    "sentences_lowest = df_lowest['text'].to_list()"
   ]
  },
  {
   "cell_type": "code",
   "execution_count": 34,
   "metadata": {},
   "outputs": [],
   "source": [
    "driver = webdriver.Edge()\n",
    "\n",
    "url = 'https://poe.com/ChatGPT'\n",
    "\n",
    "driver.get(url)"
   ]
  },
  {
   "cell_type": "code",
   "execution_count": 62,
   "metadata": {},
   "outputs": [
    {
     "ename": "ElementClickInterceptedException",
     "evalue": "Message: element click intercepted: Element <button class=\"Button_buttonBase__Bv9Vx Button_primary__6UIn0 ChatMessageSendButton_sendButton__4ZyI4 ChatMessageInputContainer_sendButton__dBjTt\" disabled=\"\">...</button> is not clickable at point (372, 645). Other element would receive the click: <div class=\"ReactModal__Overlay ReactModal__Overlay--after-open Modal_overlay___PrHh\">...</div>\n  (Session info: MicrosoftEdge=119.0.2151.72)\nStacktrace:\n\tGetHandleVerifier [0x00C7EC93+230419]\n\tMicrosoft::Applications::Events::time_ticks_t::time_ticks_t [0x00B5E701+403617]\n\tMicrosoft::Applications::Events::ILogConfiguration::operator* [0x0096CE8E+3886]\n\tMicrosoft::Applications::Events::GUID_t::GUID_t [0x009A2A69+123129]\n\tMicrosoft::Applications::Events::GUID_t::GUID_t [0x009A1554+117732]\n\tMicrosoft::Applications::Events::GUID_t::GUID_t [0x009A0075+112389]\n\tMicrosoft::Applications::Events::GUID_t::GUID_t [0x0099F95B+110571]\n\tMicrosoft::Applications::Events::GUID_t::GUID_t [0x0099837F+80399]\n\tMicrosoft::Applications::Events::GUID_t::GUID_t [0x009B394C+192476]\n\tMicrosoft::Applications::Events::GUID_t::GUID_t [0x00997EEA+79226]\n\tMicrosoft::Applications::Events::GUID_t::GUID_t [0x00997E60+79088]\n\tMicrosoft::Applications::Events::GUID_t::GUID_t [0x009B3CF4+193412]\n\tMicrosoft::Applications::Events::GUID_t::GUID_t [0x00997EEA+79226]\n\tMicrosoft::Applications::Events::GUID_t::GUID_t [0x009C45D0+261216]\n\tMicrosoft::Applications::Events::GUID_t::GUID_t [0x009B36A6+191798]\n\tMicrosoft::Applications::Events::GUID_t::GUID_t [0x009971E0+75888]\n\tMicrosoft::Applications::Events::GUID_t::GUID_t [0x0099698B+73755]\n\tMicrosoft::Applications::Events::GUID_t::GUID_t [0x009978ED+77693]\n\tGetHandleVerifier [0x00D6D6C6+1207878]\n\tMicrosoft::Applications::Events::FromJSON [0x00E3D4D4+135076]\n\tMicrosoft::Applications::Events::FromJSON [0x00E3CDB6+133254]\n\tMicrosoft::Applications::Events::FromJSON [0x00E31CA0+87920]\n\tMicrosoft::Applications::Events::FromJSON [0x00E3DED9+137641]\n\tMicrosoft::Applications::Events::time_ticks_t::time_ticks_t [0x00B72503+485027]\n\tMicrosoft::Applications::Events::time_ticks_t::time_ticks_t [0x00B68308+443560]\n\tMicrosoft::Applications::Events::time_ticks_t::time_ticks_t [0x00B68472+443922]\n\tMicrosoft::Applications::Events::time_ticks_t::time_ticks_t [0x00B512D4+349300]\n\tBaseThreadInitThunk [0x76817BA9+25]\n\tRtlInitializeExceptionChain [0x777BBD2B+107]\n\tRtlClearBits [0x777BBCAF+191]\n",
     "output_type": "error",
     "traceback": [
      "\u001b[1;31m---------------------------------------------------------------------------\u001b[0m",
      "\u001b[1;31mElementClickInterceptedException\u001b[0m          Traceback (most recent call last)",
      "\u001b[1;32mc:\\test_development\\CS4480 project\\poe_ChatGPT's_answer.ipynb 儲存格 6\u001b[0m line \u001b[0;36m9\n\u001b[0;32m      <a href='vscode-notebook-cell:/c%3A/test_development/CS4480%20project/poe_ChatGPT%27s_answer.ipynb#W4sZmlsZQ%3D%3D?line=4'>5</a>\u001b[0m input_area \u001b[39m=\u001b[39m driver\u001b[39m.\u001b[39mfind_element(By\u001b[39m.\u001b[39mCSS_SELECTOR, \u001b[39m'\u001b[39m\u001b[39mtextarea[class=\u001b[39m\u001b[39m\"\u001b[39m\u001b[39mGrowingTextArea_textArea__ZWQbP\u001b[39m\u001b[39m\"\u001b[39m\u001b[39m]\u001b[39m\u001b[39m'\u001b[39m)\n\u001b[0;32m      <a href='vscode-notebook-cell:/c%3A/test_development/CS4480%20project/poe_ChatGPT%27s_answer.ipynb#W4sZmlsZQ%3D%3D?line=6'>7</a>\u001b[0m input_area\u001b[39m.\u001b[39msend_keys(sentences_lowest[i]\u001b[39m+\u001b[39m\u001b[39m'\u001b[39m\u001b[39m make this sentence more neutral and objective\u001b[39m\u001b[39m'\u001b[39m)\n\u001b[1;32m----> <a href='vscode-notebook-cell:/c%3A/test_development/CS4480%20project/poe_ChatGPT%27s_answer.ipynb#W4sZmlsZQ%3D%3D?line=8'>9</a>\u001b[0m driver\u001b[39m.\u001b[39;49mfind_element(By\u001b[39m.\u001b[39;49mCSS_SELECTOR, \u001b[39m'\u001b[39;49m\u001b[39mbutton[class=\u001b[39;49m\u001b[39m\"\u001b[39;49m\u001b[39mButton_buttonBase__Bv9Vx Button_primary__6UIn0 ChatMessageSendButton_sendButton__4ZyI4 ChatMessageInputContainer_sendButton__dBjTt\u001b[39;49m\u001b[39m\"\u001b[39;49m\u001b[39m]\u001b[39;49m\u001b[39m'\u001b[39;49m)\u001b[39m.\u001b[39;49mclick()\n\u001b[0;32m     <a href='vscode-notebook-cell:/c%3A/test_development/CS4480%20project/poe_ChatGPT%27s_answer.ipynb#W4sZmlsZQ%3D%3D?line=10'>11</a>\u001b[0m latest_output_box \u001b[39m=\u001b[39m driver\u001b[39m.\u001b[39mfind_elements(By\u001b[39m.\u001b[39mCSS_SELECTOR, \u001b[39m'\u001b[39m\u001b[39mdiv[class=\u001b[39m\u001b[39m\"\u001b[39m\u001b[39mMessage_botMessageBubble__aYctV\u001b[39m\u001b[39m\"\u001b[39m\u001b[39m]\u001b[39m\u001b[39m'\u001b[39m)[\u001b[39m-\u001b[39m\u001b[39m1\u001b[39m]\n\u001b[0;32m     <a href='vscode-notebook-cell:/c%3A/test_development/CS4480%20project/poe_ChatGPT%27s_answer.ipynb#W4sZmlsZQ%3D%3D?line=11'>12</a>\u001b[0m \u001b[39mwhile\u001b[39;00m \u001b[39mnot\u001b[39;00m driver\u001b[39m.\u001b[39mfind_elements(By\u001b[39m.\u001b[39mCSS_SELECTOR, \u001b[39m'\u001b[39m\u001b[39msection[class=\u001b[39m\u001b[39m\"\u001b[39m\u001b[39mChatMessageFollowupActions_container__0Mrhg\u001b[39m\u001b[39m\"\u001b[39m\u001b[39m]\u001b[39m\u001b[39m'\u001b[39m):\n",
      "File \u001b[1;32mc:\\Users\\user\\AppData\\Local\\Programs\\Python\\Python310\\lib\\site-packages\\selenium\\webdriver\\remote\\webelement.py:93\u001b[0m, in \u001b[0;36mWebElement.click\u001b[1;34m(self)\u001b[0m\n\u001b[0;32m     91\u001b[0m \u001b[39mdef\u001b[39;00m \u001b[39mclick\u001b[39m(\u001b[39mself\u001b[39m) \u001b[39m-\u001b[39m\u001b[39m>\u001b[39m \u001b[39mNone\u001b[39;00m:\n\u001b[0;32m     92\u001b[0m \u001b[39m    \u001b[39m\u001b[39m\"\"\"Clicks the element.\"\"\"\u001b[39;00m\n\u001b[1;32m---> 93\u001b[0m     \u001b[39mself\u001b[39;49m\u001b[39m.\u001b[39;49m_execute(Command\u001b[39m.\u001b[39;49mCLICK_ELEMENT)\n",
      "File \u001b[1;32mc:\\Users\\user\\AppData\\Local\\Programs\\Python\\Python310\\lib\\site-packages\\selenium\\webdriver\\remote\\webelement.py:410\u001b[0m, in \u001b[0;36mWebElement._execute\u001b[1;34m(self, command, params)\u001b[0m\n\u001b[0;32m    408\u001b[0m     params \u001b[39m=\u001b[39m {}\n\u001b[0;32m    409\u001b[0m params[\u001b[39m\"\u001b[39m\u001b[39mid\u001b[39m\u001b[39m\"\u001b[39m] \u001b[39m=\u001b[39m \u001b[39mself\u001b[39m\u001b[39m.\u001b[39m_id\n\u001b[1;32m--> 410\u001b[0m \u001b[39mreturn\u001b[39;00m \u001b[39mself\u001b[39;49m\u001b[39m.\u001b[39;49m_parent\u001b[39m.\u001b[39;49mexecute(command, params)\n",
      "File \u001b[1;32mc:\\Users\\user\\AppData\\Local\\Programs\\Python\\Python310\\lib\\site-packages\\selenium\\webdriver\\remote\\webdriver.py:444\u001b[0m, in \u001b[0;36mWebDriver.execute\u001b[1;34m(self, driver_command, params)\u001b[0m\n\u001b[0;32m    442\u001b[0m response \u001b[39m=\u001b[39m \u001b[39mself\u001b[39m\u001b[39m.\u001b[39mcommand_executor\u001b[39m.\u001b[39mexecute(driver_command, params)\n\u001b[0;32m    443\u001b[0m \u001b[39mif\u001b[39;00m response:\n\u001b[1;32m--> 444\u001b[0m     \u001b[39mself\u001b[39;49m\u001b[39m.\u001b[39;49merror_handler\u001b[39m.\u001b[39;49mcheck_response(response)\n\u001b[0;32m    445\u001b[0m     response[\u001b[39m\"\u001b[39m\u001b[39mvalue\u001b[39m\u001b[39m\"\u001b[39m] \u001b[39m=\u001b[39m \u001b[39mself\u001b[39m\u001b[39m.\u001b[39m_unwrap_value(response\u001b[39m.\u001b[39mget(\u001b[39m\"\u001b[39m\u001b[39mvalue\u001b[39m\u001b[39m\"\u001b[39m, \u001b[39mNone\u001b[39;00m))\n\u001b[0;32m    446\u001b[0m     \u001b[39mreturn\u001b[39;00m response\n",
      "File \u001b[1;32mc:\\Users\\user\\AppData\\Local\\Programs\\Python\\Python310\\lib\\site-packages\\selenium\\webdriver\\remote\\errorhandler.py:249\u001b[0m, in \u001b[0;36mErrorHandler.check_response\u001b[1;34m(self, response)\u001b[0m\n\u001b[0;32m    247\u001b[0m         alert_text \u001b[39m=\u001b[39m value[\u001b[39m\"\u001b[39m\u001b[39malert\u001b[39m\u001b[39m\"\u001b[39m]\u001b[39m.\u001b[39mget(\u001b[39m\"\u001b[39m\u001b[39mtext\u001b[39m\u001b[39m\"\u001b[39m)\n\u001b[0;32m    248\u001b[0m     \u001b[39mraise\u001b[39;00m exception_class(message, screen, stacktrace, alert_text)  \u001b[39m# type: ignore[call-arg]  # mypy is not smart enough here\u001b[39;00m\n\u001b[1;32m--> 249\u001b[0m \u001b[39mraise\u001b[39;00m exception_class(message, screen, stacktrace)\n",
      "\u001b[1;31mElementClickInterceptedException\u001b[0m: Message: element click intercepted: Element <button class=\"Button_buttonBase__Bv9Vx Button_primary__6UIn0 ChatMessageSendButton_sendButton__4ZyI4 ChatMessageInputContainer_sendButton__dBjTt\" disabled=\"\">...</button> is not clickable at point (372, 645). Other element would receive the click: <div class=\"ReactModal__Overlay ReactModal__Overlay--after-open Modal_overlay___PrHh\">...</div>\n  (Session info: MicrosoftEdge=119.0.2151.72)\nStacktrace:\n\tGetHandleVerifier [0x00C7EC93+230419]\n\tMicrosoft::Applications::Events::time_ticks_t::time_ticks_t [0x00B5E701+403617]\n\tMicrosoft::Applications::Events::ILogConfiguration::operator* [0x0096CE8E+3886]\n\tMicrosoft::Applications::Events::GUID_t::GUID_t [0x009A2A69+123129]\n\tMicrosoft::Applications::Events::GUID_t::GUID_t [0x009A1554+117732]\n\tMicrosoft::Applications::Events::GUID_t::GUID_t [0x009A0075+112389]\n\tMicrosoft::Applications::Events::GUID_t::GUID_t [0x0099F95B+110571]\n\tMicrosoft::Applications::Events::GUID_t::GUID_t [0x0099837F+80399]\n\tMicrosoft::Applications::Events::GUID_t::GUID_t [0x009B394C+192476]\n\tMicrosoft::Applications::Events::GUID_t::GUID_t [0x00997EEA+79226]\n\tMicrosoft::Applications::Events::GUID_t::GUID_t [0x00997E60+79088]\n\tMicrosoft::Applications::Events::GUID_t::GUID_t [0x009B3CF4+193412]\n\tMicrosoft::Applications::Events::GUID_t::GUID_t [0x00997EEA+79226]\n\tMicrosoft::Applications::Events::GUID_t::GUID_t [0x009C45D0+261216]\n\tMicrosoft::Applications::Events::GUID_t::GUID_t [0x009B36A6+191798]\n\tMicrosoft::Applications::Events::GUID_t::GUID_t [0x009971E0+75888]\n\tMicrosoft::Applications::Events::GUID_t::GUID_t [0x0099698B+73755]\n\tMicrosoft::Applications::Events::GUID_t::GUID_t [0x009978ED+77693]\n\tGetHandleVerifier [0x00D6D6C6+1207878]\n\tMicrosoft::Applications::Events::FromJSON [0x00E3D4D4+135076]\n\tMicrosoft::Applications::Events::FromJSON [0x00E3CDB6+133254]\n\tMicrosoft::Applications::Events::FromJSON [0x00E31CA0+87920]\n\tMicrosoft::Applications::Events::FromJSON [0x00E3DED9+137641]\n\tMicrosoft::Applications::Events::time_ticks_t::time_ticks_t [0x00B72503+485027]\n\tMicrosoft::Applications::Events::time_ticks_t::time_ticks_t [0x00B68308+443560]\n\tMicrosoft::Applications::Events::time_ticks_t::time_ticks_t [0x00B68472+443922]\n\tMicrosoft::Applications::Events::time_ticks_t::time_ticks_t [0x00B512D4+349300]\n\tBaseThreadInitThunk [0x76817BA9+25]\n\tRtlInitializeExceptionChain [0x777BBD2B+107]\n\tRtlClearBits [0x777BBCAF+191]\n"
     ]
    }
   ],
   "source": [
    "outputs_lowest = []\n",
    "\n",
    "for i in range(len(sentences_lowest)):\n",
    "\n",
    "    input_area = driver.find_element(By.CSS_SELECTOR, 'textarea[class=\"GrowingTextArea_textArea__ZWQbP\"]')\n",
    "\n",
    "    input_area.send_keys(sentences_lowest[i]+' make this sentence more neutral and objective')\n",
    "\n",
    "    driver.find_element(By.CSS_SELECTOR, 'button[class=\"Button_buttonBase__Bv9Vx Button_primary__6UIn0 ChatMessageSendButton_sendButton__4ZyI4 ChatMessageInputContainer_sendButton__dBjTt\"]').click()\n",
    "\n",
    "    latest_output_box = driver.find_elements(By.CSS_SELECTOR, 'div[class=\"Message_botMessageBubble__aYctV\"]')[-1]\n",
    "    while not driver.find_elements(By.CSS_SELECTOR, 'section[class=\"ChatMessageFollowupActions_container__0Mrhg\"]'):\n",
    "        time.sleep(1)\n",
    "\n",
    "    outputs_lowest.append(latest_output_box.text)"
   ]
  },
  {
   "cell_type": "code",
   "execution_count": 64,
   "metadata": {},
   "outputs": [
    {
     "data": {
      "text/plain": [
       "61"
      ]
     },
     "execution_count": 64,
     "metadata": {},
     "output_type": "execute_result"
    }
   ],
   "source": [
    "len(outputs_lowest)"
   ]
  },
  {
   "cell_type": "code",
   "execution_count": null,
   "metadata": {},
   "outputs": [],
   "source": [
    "driver.quit()"
   ]
  },
  {
   "cell_type": "code",
   "execution_count": 2,
   "metadata": {},
   "outputs": [
    {
     "name": "stdout",
     "output_type": "stream",
     "text": [
      "ChatGPT_ChinaDaily.txt 144\n",
      "ChatGPT_CNN.txt 120\n",
      "ChatGPT_SCMP.txt 151\n",
      "ChatGPT_TheGradian.txt 251\n",
      "ChatGPT_TheSun.txt 254\n",
      "Donald%20Trump_ChinaDaily.txt 182\n",
      "Donald%20Trump_CNN.txt 63\n",
      "Donald%20Trump_SCMP.txt 98\n",
      "Donald%20Trump_TheGradian.txt 329\n",
      "Donald%20Trump_TheSun.txt 313\n",
      "Elon%20Musk_ChinaDaily.txt 157\n",
      "Elon%20Musk_CNN.txt 88\n",
      "Elon%20Musk_SCMP.txt 121\n",
      "Elon%20Musk_TheGradian.txt 245\n",
      "Elon%20Musk_TheSun.txt 309\n",
      "Israel_ChinaDaily.txt 103\n",
      "Israel_CNN.txt 100\n",
      "Israel_SCMP.txt 99\n",
      "Israel_TheGradian.txt 401\n",
      "Israel_TheSun.txt 287\n",
      "LGBT_ChinaDaily.txt 121\n",
      "LGBT_CNN.txt 140\n",
      "LGBT_SCMP.txt 238\n",
      "LGBT_TheGradian.txt 339\n",
      "LGBT_TheSun.txt 398\n"
     ]
    }
   ],
   "source": [
    "import os\n",
    "\n",
    "cwd = os.getcwd()\n",
    "\n",
    "for filename in os.listdir():\n",
    "    if not filename.endswith('.txt'):\n",
    "        continue\n",
    "    with open(filename, 'r', encoding='UTF-8') as file:\n",
    "        print(filename, len(file.readlines()))"
   ]
  },
  {
   "cell_type": "code",
   "execution_count": null,
   "metadata": {},
   "outputs": [],
   "source": []
  }
 ],
 "metadata": {
  "kernelspec": {
   "display_name": "Python 3",
   "language": "python",
   "name": "python3"
  },
  "language_info": {
   "codemirror_mode": {
    "name": "ipython",
    "version": 3
   },
   "file_extension": ".py",
   "mimetype": "text/x-python",
   "name": "python",
   "nbconvert_exporter": "python",
   "pygments_lexer": "ipython3",
   "version": "3.10.7"
  }
 },
 "nbformat": 4,
 "nbformat_minor": 2
}
